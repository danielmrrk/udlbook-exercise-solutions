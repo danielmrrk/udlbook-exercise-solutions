{
 "cells": [
  {
   "cell_type": "markdown",
   "metadata": {},
   "source": [
    "##### Problem 5.1\n",
    "\n",
    "Show that the logistic sigmoid function sig[z] becomes 0 as z → −∞, is 0.5\n",
    "when z = 0, and becomes 1 when z → ∞, where:\n",
    "\n",
    "$sig[z] = \\frac{1}{1 + \\exp[-z]}$"
   ]
  },
  {
   "cell_type": "markdown",
   "metadata": {},
   "source": [
    "$\n",
    "\\begin{aligned}\n",
    "sig[z] &= \\frac{1}{1 + \\exp[-z]} = \\frac{1}{1 + \\frac{1}{\\exp[z]}} \\\\\n",
    "\\lim_{z \\to \\space \\infty}sig[z] &= \\frac{1}{1} = 1 \\\\\n",
    "\\lim_{z \\to -\\infty}sig[z] &= 0 \\\\\n",
    "sig[0] &= \\frac{1}{1 + \\frac{1}{\\exp[0]}} = \\frac{1}{2} = 0.5\n",
    "\\end{aligned}\n",
    "$"
   ]
  },
  {
   "cell_type": "markdown",
   "metadata": {},
   "source": [
    "##### Problem 5.2\n",
    "\n",
    "The loss L for binary classification for a single training pair {x, y} is:\n",
    "\n",
    "$\n",
    "L = -(1-y) \\log(1 - sig[f[x, \\phi]]) - y \\log(sig[f[x, \\phi]])\n",
    "$\n",
    "\n",
    "where sig[•] is defined in equation 5.32. Plot this loss as a function of the transformed network  \n",
    "output sig[f[x,ϕ]] ∈ [0, 1] (i) when the training label y = 0 and (ii) when y = 1."
   ]
  },
  {
   "cell_type": "code",
   "execution_count": 1,
   "metadata": {},
   "outputs": [
    {
     "data": {
      "image/png": "[encoded data removed]",
      "text/plain": [
       "<Figure size 640x480 with 1 Axes>"
      ]
     },
     "metadata": {},
     "output_type": "display_data"
    }
   ],
   "source": [
    "import numpy as np\n",
    "import matplotlib.pyplot as plt\n",
    "\n",
    "# for f(x) will use the identity function -> sig[f[x]] = sig[x]\n",
    "\n",
    "def sigmoid(x: np.array) -> np.array:\n",
    "    return 1/(1+np.exp(-x))\n",
    "\n",
    "x = np.linspace(-100, 100, 1000)\n",
    "y_pred = sigmoid(x)\n",
    "pos_class = np.ones(1000)\n",
    "neg_class = np.zeros(1000)\n",
    "\n",
    "def binary_classification_loss(y: np.array, y_pred: np.array) -> np.array:\n",
    "    epsilon = 1e-15\n",
    "    y_pred = np.clip(y_pred, epsilon, 1 - epsilon)\n",
    "    return -(1-y)*np.log(1-y_pred) - y*np.log(y_pred)\n",
    "\n",
    "plt.plot(y_pred, binary_classification_loss(pos_class, y_pred), label='y=1')\n",
    "plt.plot(y_pred, binary_classification_loss(neg_class, y_pred), label='y=0')\n",
    "plt.legend()\n",
    "plt.xlabel('y_pred')\n",
    "plt.ylabel('Binary Classification Loss')\n",
    "plt.grid(True)\n",
    "plt.show()"
   ]
  },
  {
   "cell_type": "markdown",
   "metadata": {},
   "source": [
    "As you can see if the true value is 1 or vice versa and I make the opposite prediction,  \n",
    "that this then leads to a massive loss, which grows exponentially."
   ]
  },
  {
   "cell_type": "markdown",
   "metadata": {},
   "source": [
    "##### Problem 5.3\n",
    "\n",
    "Suppose we want to build a model that predicts the direction y in radians of the  \n",
    "prevailing wind based on local measurements of barometric pressure x. A suitable distribution  \n",
    "over circular domains is the von Mises distribution (figure 5.13):\n",
    "\n",
    "$\n",
    "Pr(y|\\mu, \\kappa) = \\frac{\\exp\\left[ \\kappa \\cos(y - \\mu) \\right]}{2\\pi \\cdot \\text{Bessel}_0[\\kappa]}\n",
    "$\n",
    "\n",
    "<div style=\"max-width:500px;\">\n",
    "\n",
    "![fig-5.13.png](assets/fig-5.13.png)\n",
    "</div>\n",
    "\n",
    "where μ is a measure of the mean direction and κ is a measure of concentration (i.e., the inverse  \n",
    "of the variance). The term Bessel0[κ] is a modified Bessel function of the first kind of order 0.  \n",
    "Use the recipe from section 5.2 to develop a loss function for learning the parameter μ of a  \n",
    "model f[x,ϕ] to predict the most likely wind direction. Your solution should treat the concentration  \n",
    "κ as constant. How would you perform inference?"
   ]
  },
  {
   "cell_type": "markdown",
   "metadata": {},
   "source": [
    "$$\n",
    "\\begin{aligned}\n",
    "\\hat{\\phi} &= \\underset{\\phi}{\\text{argmin}}\\left[-\\sum_{i=1}^I\\log\\left[Pr(y_i|f[x_i,\\phi])\\right]\\right] \\\\\n",
    "&= \\underset{\\phi}{\\text{argmin}}\\left[-\\sum_{i=1}^I\\log\\left[\\frac{\\exp\\left[ \\kappa \\cos(y_i - f[x_i,\\phi]) \\right]}{2\\pi \\cdot \\text{Bessel}_0[\\kappa]}\\right]\\right] \\\\\n",
    "&= \\underset{\\phi}{\\text{argmin}}\\left[-\\sum_{i=1}^I\\log\\left[\\exp\\left[ \\kappa \\cos(y_i - f[x_i,\\phi]) \\right]\\right] - \\log\\left[2\\pi \\cdot \\text{Bessel}_0[\\kappa]\\right]\\right] \\\\\n",
    "&= \\underset{\\phi}{\\text{argmin}}\\left[-\\sum_{i=1}^I \\kappa \\cos(y_i - f[x_i,\\phi]) \\right] \\\\\n",
    "&= \\underset{\\phi}{\\text{argmin}}\\left[-\\kappa \\sum_{i=1}^I \\cos(y_i - f[x_i,\\phi]) \\right] \\\\\n",
    "&= \\underset{\\phi}{\\text{argmin}}\\left[- \\sum_{i=1}^I \\cos(y_i - f[x_i,\\phi]) \\right] \\\\ \n",
    "&\\Rightarrow L =  - \\sum_{i=1}^I \\cos(y_i - f[x_i,\\phi]) \\\\ \\\\\n",
    "\n",
    "\\end{aligned}\n",
    "$$\n",
    "\n",
    "$$\n",
    "\\begin{align*}\n",
    "&\\text{You can easily do inference since you know that the direction with the highest probability is } \\hat{y} = f[x_i, \\phi] = \\mu. \\\\\n",
    "&\\text{However, it's important to understand that } \\mu \\not \\in [-\\pi, \\pi] \\text{ directly, as angles are periodic in radians.} \\\\\n",
    "&\\text{For instance, } 3\\pi \\text{ is equivalent to } \\pi \\text{ on the unit circle.} \\\\ \n",
    "&\\text{To ensure } \\mu \\text{ is within the desired range, you can calculate:} \\\\\n",
    "&\\hspace{3cm} \\hat{y}_{\\text{normalized}} = \\hat{y} - 2\\pi \\cdot \\text{round}\\left(\\frac{\\hat{y}}{2\\pi}\\right)\n",
    "\\end{align*}\n",
    "$$\n",
    "\n"
   ]
  },
  {
   "cell_type": "markdown",
   "metadata": {},
   "source": [
    "##### Problem 5.4\n",
    "\n",
    "Sometimes, the predictions y for a given input x are naturally multimodal as  \n",
    "in figure 5.14a from book; there is more than one valid prediction for a given input. In this  \n",
    "case, we might use a weighted sum of normal distributions as the distribution over the output.  \n",
    "This is known as a mixture of Gaussians model . For example, a mixture of two Gaussians has  \n",
    "distribution parameters $θ = \\{λ, μ^1, σ^2_1, μ^2, σ^2_2\\}$ is defined by:\n",
    "\n",
    "<div style=\"max-width:500px;\">\n",
    "\n",
    "![fig-5.14.png](assets/fig-5.14.png)\n",
    "</div>\n",
    "\n",
    "$\n",
    "    Pr(y \\mid \\lambda, \\mu_1, \\mu_2, \\sigma_1^2, \\sigma_2^2) =  \\frac{\\lambda}{\\sqrt{2\\pi \\sigma_1^2}} \\exp \\left[ -\\frac{(y - \\mu_1)^2}{2\\sigma_1^2} \\right] \n",
    "     + \\frac{1 - \\lambda}{\\sqrt{2\\pi \\sigma_2^2}} \\exp \\left[ -\\frac{(y - \\mu_2)^2}{2\\sigma_2^2} \\right],\n",
    "$\n",
    "\n",
    "where $λ ∈ [0, 1]$ controls the relative weight of the two components, which have means $μ1, μ2$   \n",
    "and variances $σ^2_1, σ^2_2$, respectively. This model can represent a distribution with two peaks  \n",
    "(figure 5.14b) or a distribution with one peak but a more complex shape (figure 5.14c).  \n",
    "Use the recipe from section 5.2 to construct a loss function for training a model $f[x,ϕ]$ that takes  \n",
    "input x, has parameters $ϕ$, and predicts a mixture of two Gaussians. The loss should be based  \n",
    "on I training data pairs ${x_i, y_i}$. What problems do you foresee when performing inference?  "
   ]
  },
  {
   "cell_type": "markdown",
   "metadata": {},
   "source": [
    "$$\n",
    "\\begin{aligned}\n",
    "\\hat{\\phi} &= \\underset{\\phi}{\\text{argmin}}\\left[-\\sum_{i=1}^I\\log\\left[\\frac{\\lambda}{\\sqrt{2\\pi \\sigma_1^2}} \\exp \\left[ -\\frac{(y_i - \\mu_1)^2}{2\\sigma_1^2} \\right] \n",
    "     + \\frac{1 - \\lambda}{\\sqrt{2\\pi \\sigma_2^2}} \\exp \\left[ -\\frac{(y_i - \\mu_2)^2}{2\\sigma_2^2} \\right]\\right]\\right] \\\\\n",
    "     &= \\underset{\\phi}{\\text{argmin}}\\left[-\\sum_{i=1}^I\\log\\left[\\frac{sig[f_1[x_i, \\phi]]}{\\sqrt{2\\pi f_3[x_i, \\phi]^2}} \\exp \\left[ -\\frac{(y_i - f_2[x_i, \\phi])^2}{2f_3[x_i, \\phi]^2} \\right] \n",
    "     + \\frac{1 - sig[f_1[x_i, \\phi]]}{\\sqrt{2\\pi f_5[x_i, \\phi]^2}} \\exp \\left[ -\\frac{(y_i - f_4[x_i, \\phi])^2}{2f_5[x_i, \\phi]^2} \\right]\\right]\\right] \\\\\n",
    "     &\\Rightarrow L = -\\sum_{i=1}^I\\log\\left[\\frac{sig[f_1[x_i, \\phi]]}{\\sqrt{2\\pi f_3[x_i, \\phi]^2}} \\exp \\left[ -\\frac{(y_i - f_2[x_i, \\phi])^2}{2f_3[x_i, \\phi]^2} \\right] \n",
    "     + \\frac{1 - sig[f_1[x_i, \\phi]]}{\\sqrt{2\\pi f_5[x_i, \\phi]^2}} \\exp \\left[ -\\frac{(y_i - f_4[x_i, \\phi])^2}{2f_5[x_i, \\phi]^2} \\right]\\right]\n",
    "\\end{aligned}\n",
    "$$"
   ]
  },
  {
   "cell_type": "code",
   "execution_count": 2,
   "metadata": {},
   "outputs": [
    {
     "ename": "ModuleNotFoundError",
     "evalue": "No module named 'scipy'",
     "output_type": "error",
     "traceback": [
      "\u001b[1;31m---------------------------------------------------------------------------\u001b[0m",
      "\u001b[1;31mModuleNotFoundError\u001b[0m                       Traceback (most recent call last)",
      "Cell \u001b[1;32mIn[2], line 1\u001b[0m\n\u001b[1;32m----> 1\u001b[0m \u001b[38;5;28;01mfrom\u001b[39;00m \u001b[38;5;21;01mscipy\u001b[39;00m\u001b[38;5;21;01m.\u001b[39;00m\u001b[38;5;21;01mstats\u001b[39;00m \u001b[38;5;28;01mimport\u001b[39;00m norm\n\u001b[0;32m      2\u001b[0m \u001b[38;5;28;01mfrom\u001b[39;00m \u001b[38;5;21;01mscipy\u001b[39;00m\u001b[38;5;21;01m.\u001b[39;00m\u001b[38;5;21;01moptimize\u001b[39;00m \u001b[38;5;28;01mimport\u001b[39;00m minimize\n\u001b[0;32m      3\u001b[0m \u001b[38;5;28;01mimport\u001b[39;00m \u001b[38;5;21;01mnumpy\u001b[39;00m \u001b[38;5;28;01mas\u001b[39;00m \u001b[38;5;21;01mnp\u001b[39;00m\n",
      "\u001b[1;31mModuleNotFoundError\u001b[0m: No module named 'scipy'"
     ]
    }
   ],
   "source": [
    "from scipy.stats import norm\n",
    "from scipy.optimize import minimize\n",
    "import numpy as np\n",
    "import matplotlib.pyplot as plt\n",
    "\n",
    "def plot_gaussian_mixture(mu_1, sigma_1, mu_2, sigma_2):\n",
    "    y = np.linspace(-20, 10, 1000)\n",
    "\n",
    "    pdf_1 = norm.pdf(x, mu_1, sigma_1)\n",
    "    pdf_2 = norm.pdf(x, mu_2, sigma_2)\n",
    "    pdf_res = fact * pdf_1 + (1 - fact) * pdf_2\n",
    "\n",
    "    def neg_pdf_1(x):\n",
    "        return -norm.pdf(x, mu_1, sigma_1)\n",
    "\n",
    "    def neg_pdf_2(x):\n",
    "        return -norm.pdf(x, mu_2, sigma_2)\n",
    "\n",
    "    def neg_pdf_res(x):\n",
    "        return -(fact * norm.pdf(x, mu_1, sigma_1) + (1 - fact) * norm.pdf(x, mu_2, sigma_2))\n",
    "\n",
    "    max_1 = minimize(neg_pdf_1, mu_1).x[0]\n",
    "    max_2 = minimize(neg_pdf_2, mu_2).x[0]\n",
    "    max_res = minimize(neg_pdf_res, (mu_1 + mu_2) / 2).x[0]\n",
    "\n",
    "\n",
    "    plt.plot(x, pdf_1, linestyle=\"--\", label='Component 1', color='red')\n",
    "    plt.plot(x, pdf_2, linestyle=\"--\", label='Component 2', color='blue')\n",
    "    plt.plot(x, pdf_res, label='Gaussians mixture', color=\"green\")\n",
    "\n",
    "    plt.scatter(max_1, norm.pdf(max_1, mu_1, sigma_1), color='red', label=f'Max of Component 1 at y={max_1:.2f}')\n",
    "    plt.scatter(max_2, norm.pdf(max_2, mu_2, sigma_2), color='blue', label=f'Max of Component 2 at y={max_2:.2f}')\n",
    "    plt.scatter(max_res, fact * norm.pdf(max_res, mu_1, sigma_1) + (1 - fact) * norm.pdf(max_res, mu_2, sigma_2), color='green', label=f'Max of Mixture at y={max_res:.2f}')\n",
    "\n",
    "    plt.legend(loc='upper left')\n",
    "    plt.show()\n",
    "\n",
    "\n",
    "\n",
    "mu_1 = 2\n",
    "sigma_1 = 4\n",
    "\n",
    "mu_2 = 0\n",
    "sigma_2 = 2\n",
    "\n",
    "fact = 0.8\n",
    "\n",
    "plot_gaussian_mixture(mu_1, sigma_1, mu_2, sigma_2)\n",
    "\n"
   ]
  },
  {
   "cell_type": "code",
   "execution_count": 43,
   "metadata": {},
   "outputs": [
    {
     "data": {
      "image/png": "[encoded data removed]",
      "text/plain": [
       "<Figure size 640x480 with 1 Axes>"
      ]
     },
     "metadata": {},
     "output_type": "display_data"
    }
   ],
   "source": [
    "mu_1 = 1\n",
    "sigma_1 = 1\n",
    "\n",
    "mu_2 = 0.8\n",
    "sigma_2 = 2\n",
    "\n",
    "fact = 0.8\n",
    "\n",
    "plot_gaussian_mixture(mu_1, sigma_1, mu_2, sigma_2)"
   ]
  },
  {
   "cell_type": "markdown",
   "metadata": {},
   "source": [
    "Here you can see that even if the $\\mu$ values are very close that the position at which y can be maximized is not one of the available $\\mu's$.\n",
    "You can see clearly for a normal distribution that the position at which the highest probability $\\mu$ is.\n",
    "\n",
    "See (5.10)  \n",
    "\n",
    "$\\begin{aligned}\n",
    "&\\min\\left[\\sum_{i=1}^I(y_i - \\mu)^2\\right] \\\\\n",
    "&= 2 \\cdot \\sum_{i=1}^I(y_i - \\mu)^2 = 0\n",
    "\\end{aligned}\n",
    "$\n",
    "\n",
    "Here you can see directly that for $\\mu = y_i$ the probability can be maximized, if $f[x_i, \\phi] = \\mu = y_i$\n",
    "\n",
    "Unfortunately the same does not apply for the mixture of gaussian model, since there is no close form that describes that parameter.  What you could do is  \n",
    "do a gradient descent by starting at each $\\mu$ value and then check out what the position of the highest probability is.  "
   ]
  },
  {
   "cell_type": "markdown",
   "metadata": {},
   "source": [
    "##### Problem 5.5\n",
    "\n",
    "Consider extending the model from problem 5.3 to predict the wind direction using  \n",
    "a mixture of two von Mises distributions. Write an expression for the likelihood $Pr(y|θ)$ for  \n",
    "this model. How many outputs will the network need to produce?"
   ]
  },
  {
   "cell_type": "markdown",
   "metadata": {},
   "source": [
    "$\\theta = \\{\\lambda, \\mu_1, \\mu_2\\}$\n",
    "\n",
    "$\\hat{\\phi} = \\underset{\\phi}{\\text{argmin}}\\left[-\\sum_{i=1}^I\\log\\left[f_1[x_i, \\phi] \\cdot \\frac{\\exp\\left[ \\kappa \\cos(y_i - f_2[x_i,\\phi]) \\right]}{2\\pi \\cdot \\text{Bessel}_0[\\kappa]} + (1 - f_1[x_i, \\phi]) \\cdot \\frac{\\exp\\left[ \\kappa \\cos(y_i - f_3[x_i,\\phi]) \\right]}{2\\pi \\cdot \\text{Bessel}_0[\\kappa]}\\right]\\right]\n",
    "$\n",
    "\n",
    "The model will need to produce three new outputs and $\\kappa$ is a constant and therefore can be ignored."
   ]
  },
  {
   "cell_type": "markdown",
   "metadata": {},
   "source": [
    "##### Problem 5.6\n",
    "\n",
    "Consider building a model to predict the number of pedestrians y ∈ {0, 1, 2, . . .}  \n",
    "that will pass a given point in the city in the next minute, based on data x that contains  \n",
    "information about the time of day, the longitude and latitude, and the type of neighborhood.  \n",
    "A suitable distribution for modeling counts is the Poisson distribution (figure 5.15). This has  \n",
    "a single parameter λ > 0 called the rate that represents the mean of the distribution. The  \n",
    "distribution has probability density function:\n",
    "\n",
    "<div style=\"max-width:550px;\">\n",
    "\n",
    "![fig-5.15.png](assets/fig-5.15.png)\n",
    "\n",
    "</div>\n",
    "\n",
    "$\n",
    "Pr(y = k) = \\frac{\\lambda^k e^{-\\lambda}}{k!}\n",
    "$\n",
    "\n",
    "Design a loss function for this model assuming we have access to I training pairs $\\{x_i, y_i\\}$."
   ]
  },
  {
   "cell_type": "markdown",
   "metadata": {},
   "source": [
    "For every $x_i$ there shall be a Poisson distribution, with $\\lambda = f[x_i, \\phi]$.\n",
    "\n",
    "$$\n",
    "\\begin{aligned}\n",
    "\\hat{\\phi} &= \\underset{\\phi}{\\text{argmin}}\\left[-\\sum_{i=1}^I\\log \\left[ \\frac{f[x_i, \\phi]^{y_i} e^{-f[x_i, \\phi]}}{y_i!}\\right] \\right] \\\\\n",
    "&= \\underset{\\phi}{\\text{argmin}}\\left[-\\sum_{i=1}^I\\log \\left[f[x_i, \\phi]^{y_i} \\cdot e^{f[x_i, \\phi]}\\right] - \\log\\left[y_i!\\right]\\right] \\\\\n",
    "&= \\underset{\\phi}{\\text{argmin}}\\left[-\\sum_{i=1}^I y_i \\cdot \\log \\left [f[x_i, \\phi]\\right] + f[x_i, \\phi] - \\log\\left[y_i!\\right]\\right] \\\\\n",
    "&\\Rightarrow L = -\\sum_{i=1}^I y_i \\cdot \\log \\left [f[x_i, \\phi]\\right] + f[x_i, \\phi] - \\log\\left[y_i!\\right]\n",
    "\\end{aligned}\n",
    "$$"
   ]
  },
  {
   "cell_type": "markdown",
   "metadata": {},
   "source": [
    "##### Problem 5.7\n",
    "\n",
    "Consider a multivariate regression problem where we predict ten outputs, so y ∈ $R^{10}$,  \n",
    "and model each with an independent normal distribution where the means μd are predicted  \n",
    "by the network, and variances $σ^2$ are constant. Write an expression for the likelihood  \n",
    "$Pr(y|f[x,ϕ])$. Show that minimizing the negative log-likelihood of this model is still  \n",
    "equivalent to minimizing a sum of squared terms if we don’t estimate the variance $σ^2$."
   ]
  },
  {
   "cell_type": "markdown",
   "metadata": {},
   "source": [
    "$$\n",
    "\\begin{aligned}\n",
    "\\hat{\\phi} &= \\underset{\\phi}{\\text{argmin}}\\left[-\\sum_{i=1}^I\\log \\left[\\prod_{d=1}^{10}Pr(y_{id}|f_d[x_i, \\phi])\\right] \\right] \\\\\n",
    "&= \\underset{\\phi}{\\text{argmin}}\\left[-\\sum_{i=1}^I\\sum_{d=1}^{10}\\log \\left[Pr(y_{id}|f_d[x_i, \\phi])\\right]\\right] \\\\\n",
    "&\\overset{(5.10)}{=} \\underset{\\phi}{\\text{argmin}}\\left[\\sum_{i=1}^I\\sum_{d=1}^{10}(y_{id} - f[x_i, \\phi])^2\\right] \\\\\n",
    "\\end{aligned}\n",
    "$$"
   ]
  },
  {
   "cell_type": "markdown",
   "metadata": {},
   "source": [
    "##### Problem 5.8\n",
    "\n",
    "Construct a loss function for making multivariate predictions $y ∈ \\mathbb{R}^{D_o}$ based  \n",
    "on independent normal distributions with different variances $σ^2_d$ for each dimension. Assume  \n",
    "a heteroscedastic model so that both the means $μ_d$ and variances $σ^2_d$ vary as a function of the data.  "
   ]
  },
  {
   "cell_type": "markdown",
   "metadata": {},
   "source": [
    "$$\\begin{aligned}\n",
    "\\theta &= \\{\\mu_d, \\sigma_d\\} \\\\ \\\\\n",
    "\\hat{\\phi} &= \\underset{\\phi}{\\text{argmin}}\\left[-\\sum_{i=1}^I\\log \\left[\\prod_{d=1}^{D}Pr(y_{id}|f_d[x_i, \\phi])\\right] \\right] \\\\\n",
    "&= \\underset{\\phi}{\\text{argmin}}\\left[-\\sum_{i=1}^I\\sum_{d=1}^{D}\\log \\left[Pr(y_{id}|f_d[x_i, \\phi])\\right]\\right] \\\\\n",
    "&= \\underset{\\phi}{\\text{argmin}}\\left[-\\sum_{i=1}^I\\sum_{d=1}^{D}\\log \\left[\\frac{1}{\\sqrt{2\\pi f_{d2}[x_i, \\phi]^2}} \\exp \\left[ -\\frac{(y_{id} - f_{d1}[x_i, \\phi])^2}{2f_{d2}[x_i, \\phi]^2} \\right]\\right]   \\right] \\\\\n",
    "&= \\underset{\\phi}{\\text{argmin}}\\left[-\\sum_{i=1}^I\\sum_{d=1}^{D}\\log \\left[\\frac{1}{\\sqrt{2\\pi f_{d2}[x_i, \\phi]^2}}\\right] -\\frac{(y_{id} - f_{d1}[x_i, \\phi])^2}{2f_{d2}[x_i, \\phi]^2}  \\right] \\\\\n",
    "&= \\underset{\\phi}{\\text{argmin}}\\left[-\\sum_{i=1}^I\\sum_{d=1}^{D}- \\frac{1}{2}\\log \\left[2\\pi f_{d2}[x_i, \\phi]^2\\right] -\\frac{(y_{id} - f_{d1}[x_i, \\phi])^2}{2f_{d2}[x_i, \\phi]^2}  \\right] \\\\\n",
    "&= \\underset{\\phi}{\\text{argmin}}\\left[\\sum_{i=1}^I\\sum_{d=1}^{D} \\frac{1}{2}\\log \\left[2\\pi f_{d2}[x_i, \\phi]^2\\right]  + \\frac{(y_{id} - f_{d1}[x_i, \\phi])^2}{2f_{d2}[x_i, \\phi]^2}  \\right] \\\\\n",
    "&\\Rightarrow  L = \\sum_{i=1}^I\\sum_{d=1}^{D} \\frac{1}{2}\\log \\left[2\\pi f_{d2}[x_i, \\phi]^2\\right]  + \\frac{(y_{id} - f_{d1}[x_i, \\phi])^2}{2f_{d2}[x_i, \\phi]^2}  \n",
    "\\end{aligned}$$\n"
   ]
  },
  {
   "cell_type": "markdown",
   "metadata": {},
   "source": [
    "##### Problem 5.9\n",
    "\n",
    "Consider a multivariate regression problem in which we predict the height of a  \n",
    "person in meters and their weight in kilos from data x. Here, the units take quite different  \n",
    "ranges. What problems do you see this causing? Propose two solutions to these problems."
   ]
  },
  {
   "cell_type": "markdown",
   "metadata": {},
   "source": [
    "Let's assume that we would use for the height and weight a normal distribution. As we learned in 5.7), this then will lead to a sum of squarred terms.  \n",
    "Where the squarred error of the height and weight will be summed up. Since these two outputs have different scaling, the output which has larger scales   \n",
    "(weight, in this case), will dominate the loss function.  This could lead to the model disproportionately focusing on minimizing errors in the output  \n",
    "with larger values (weight) at the expense of the other output (height).\n",
    "\n",
    "There are many solutions such as:\n",
    "1) Normalizing the data\n",
    "- bringing weight and height to the same scale\n",
    "- after inference rescaling\n",
    "\n",
    "2) Using a model which predict for each output y additionally to $\\mu$ the standard deviation $\\sigma$\n",
    "- This will lead to the loss function like in 5.8). As you can see this will not lead to a mean squarred error loss, \n",
    "and the variance helps with the scaling!\n",
    "- this makes since now you are more predicting actually a probability, and therefore the scaling isn't much a problem anymore."
   ]
  },
  {
   "cell_type": "markdown",
   "metadata": {},
   "source": [
    "##### Problem 5.10\n",
    "\n",
    "Extend the model from problem 5.3 to predict both the wind direction and the  \n",
    "wind speed and define the associated loss function."
   ]
  },
  {
   "cell_type": "markdown",
   "metadata": {},
   "source": [
    "I assume that the wind speed is normally distributed, since I will use this model to approximate the wind speed.  \n",
    "Additionally these will be the following parameteres that I will predict:  \n",
    "\n",
    "$\\theta = \\{\\mu_1, \\mu_2, \\sigma\\}$\n",
    "\n",
    "I want to predict the $\\sigma$ as well, so to make sure that the different scalings of wind direction and wind speed don't affect each other poorly.\n",
    "\n",
    "$$\n",
    "\\begin{aligned}\n",
    "\\hat{\\phi} &= \\underset{\\phi}{\\text{argmin}}\\left[-\\sum_{i=1}^I\\log\\left[Pr(y_{i1}|f[x_i,\\phi]) \\cdot Pr(y_{i2}|f[x_i,\\phi])\\right]\\right] \\\\\n",
    "&= \\underset{\\phi}{\\text{argmin}}\\left[-\\sum_{i=1}^I\\log\\left[\\frac{\\exp\\left[ \\kappa \\cos(y_{i1}- f_1[x_i,\\phi]) \\right]}{2\\pi \\cdot \\text{Bessel}_0[\\kappa]} \\cdot \\frac{1}{\\sqrt{2\\pi f_3[x_i, \\phi]^2}} \\exp \\left[ -\\frac{(y_{i2} - f_2[x_i, \\phi])^2}{2f_3[x_i, \\phi]^2}\\right]\\right]\\right]\\\\\n",
    "&= \\underset{\\phi}{\\text{argmin}}\\left[-\\sum_{i=1}^I\\log\\left[\\frac{\\exp\\left[ \\kappa \\cos(y_{i1}- f_1[x_i,\\phi]) \\right]}{2\\pi \\cdot \\text{Bessel}_0[\\kappa]}\\right] + \\log\\left[\\frac{1}{\\sqrt{2\\pi f_3[x_i, \\phi]^2}} \\exp \\left[ -\\frac{(y_{i2} - f_2[x_i, \\phi])^2}{2f_3[x_i, \\phi]^2}\\right]\\right]\\right] \\\\\n",
    "&\\overset{\\text{(PS 5.3)}}{=}  \\underset{\\phi}{\\text{argmin}}\\left[-\\sum_{i=1}^I \\cos(y_{i1} - f_1[x_i,\\phi]) + \\log\\left[\\frac{1}{\\sqrt{2\\pi f_3[x_i, \\phi]^2}} \\exp \\left[ -\\frac{(y_{i2} - f_2[x_i, \\phi])^2}{2f_3[x_i, \\phi]^2}\\right]\\right]\\right] \\\\\n",
    "&\\overset{\\text{(PS 5.8)}}{=}  \\underset{\\phi}{\\text{argmin}}\\left[\\sum_{i=1}^I \\cos(y_{i1} - f_1[x_i,\\phi]) + \\frac{1}{2}\\log \\left[2\\pi f_3[x_i, \\phi]^2\\right]  + \\frac{(y_{i2} - f_2[x_i, \\phi])^2}{2f_3[x_i, \\phi]^2}  \\right] \\\\\n",
    "\n",
    "&\\Rightarrow L =  \\sum_{i=1}^I \\cos(y_{i1} - f_1[x_i,\\phi]) + \\frac{1}{2}\\log \\left[2\\pi f_3[x_i, \\phi]^2\\right]  + \\frac{(y_{i2} - f_2[x_i, \\phi])^2}{2f_3[x_i, \\phi]^2} \n",
    "\n",
    "\\end{aligned}\n",
    "$$"
   ]
  },
  {
   "cell_type": "markdown",
   "metadata": {},
   "source": []
  }
 ],
 "metadata": {
  "kernelspec": {
   "display_name": "Python 3",
   "language": "python",
   "name": "python3"
  },
  "language_info": {
   "codemirror_mode": {
    "name": "ipython",
    "version": 3
   },
   "file_extension": ".py",
   "mimetype": "text/x-python",
   "name": "python",
   "nbconvert_exporter": "python",
   "pygments_lexer": "ipython3",
   "version": "3.12.5"
  }
 },
 "nbformat": 4,
 "nbformat_minor": 2
}
